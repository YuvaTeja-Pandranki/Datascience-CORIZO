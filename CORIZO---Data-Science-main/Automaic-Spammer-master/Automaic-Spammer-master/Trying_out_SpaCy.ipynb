{
  "nbformat": 4,
  "nbformat_minor": 0,
  "metadata": {
    "colab": {
      "name": "Trying out SpaCy.ipynb",
      "provenance": [],
      "authorship_tag": "ABX9TyM8vAJooSwg1rwWQEuICC2b",
      "include_colab_link": true
    },
    "kernelspec": {
      "name": "python3",
      "display_name": "Python 3"
    },
    "language_info": {
      "name": "python"
    }
  },
  "cells": [
    {
      "cell_type": "markdown",
      "metadata": {
        "id": "view-in-github",
        "colab_type": "text"
      },
      "source": [
        "<a href=\"https://colab.research.google.com/github/Spartan-119/Automaic-Spammer/blob/master/Trying_out_SpaCy.ipynb\" target=\"_parent\"><img src=\"https://colab.research.google.com/assets/colab-badge.svg\" alt=\"Open In Colab\"/></a>"
      ]
    },
    {
      "cell_type": "code",
      "execution_count": 2,
      "metadata": {
        "id": "Pr4m185dIXM7"
      },
      "outputs": [],
      "source": [
        "import spacy\n",
        "\n",
        "# creating object\n",
        "nlp = spacy.blank(\"en\")"
      ]
    },
    {
      "cell_type": "code",
      "source": [
        "doc = nlp(\"Hey there, my name is Abin! 5\")\n",
        "for token in doc:\n",
        "  print(token.text)"
      ],
      "metadata": {
        "colab": {
          "base_uri": "https://localhost:8080/"
        },
        "id": "Y_vlnio3Iicn",
        "outputId": "ba3ecc54-efe4-4b23-acb0-2ef4c1b32c36"
      },
      "execution_count": 3,
      "outputs": [
        {
          "output_type": "stream",
          "name": "stdout",
          "text": [
            "Hey\n",
            "there\n",
            ",\n",
            "my\n",
            "name\n",
            "is\n",
            "Abin\n",
            "!\n",
            "5\n"
          ]
        }
      ]
    },
    {
      "cell_type": "code",
      "source": [
        "# The span object\n",
        "'''\n",
        "A Span object is a slice of the document consisting of one or more tokens. It's only a view of the Doc and doesn't contain any data itself.\n",
        "\n",
        "To create a span, you can use Python's slice notation. For example, 1:3 will create a slice starting from the token at position 1, up to – but not including! – the token at position 3.\n",
        "'''\n",
        "\n",
        "span = doc[1:5]\n",
        "print(span.text)"
      ],
      "metadata": {
        "colab": {
          "base_uri": "https://localhost:8080/"
        },
        "id": "qvvIfv41I6WZ",
        "outputId": "2a5efb3e-8cee-43aa-fc12-d0c2eac49a6c"
      },
      "execution_count": 4,
      "outputs": [
        {
          "output_type": "stream",
          "name": "stdout",
          "text": [
            "there, my name\n"
          ]
        }
      ]
    },
    {
      "cell_type": "code",
      "source": [
        "# Lexical Attributes\n",
        "print(\"Index: \", [token.i for token in doc])\n",
        "print(\"Text: \", [token.text for token in doc])\n",
        "print()\n",
        "print(\"is_alpha: \", [token.is_alpha for token in doc])\n",
        "print(\"is_punct: \", [token.is_punct for token in doc])\n",
        "print(\"like_num: \", [token.like_num for token in doc])"
      ],
      "metadata": {
        "colab": {
          "base_uri": "https://localhost:8080/"
        },
        "id": "AI8zlbUWJVSp",
        "outputId": "aa71abda-3342-4aca-945b-12a24091560e"
      },
      "execution_count": 5,
      "outputs": [
        {
          "output_type": "stream",
          "name": "stdout",
          "text": [
            "Index:  [0, 1, 2, 3, 4, 5, 6, 7, 8]\n",
            "Text:  ['Hey', 'there', ',', 'my', 'name', 'is', 'Abin', '!', '5']\n",
            "\n",
            "is_alpha:  [True, True, False, True, True, True, True, False, False]\n",
            "is_punct:  [False, False, True, False, False, False, False, True, False]\n",
            "like_num:  [False, False, False, False, False, False, False, False, True]\n"
          ]
        }
      ]
    },
    {
      "cell_type": "code",
      "source": [
        "# pipeline packages\n",
        "# predicting the POS tags\n",
        "\n",
        "# loading the English pipeline\n",
        "nlp = spacy.load(\"en_core_web_sm\")\n",
        "\n",
        "# Processing a text\n",
        "doc = nlp(\"She ate the pizza.\")\n",
        "\n",
        "for token in doc:\n",
        "  print(token.text, token.pos_)"
      ],
      "metadata": {
        "id": "3E5OM9CGKMPr",
        "colab": {
          "base_uri": "https://localhost:8080/"
        },
        "outputId": "1acd953e-4b16-4afd-b28e-7b362de7c4d4"
      },
      "execution_count": 10,
      "outputs": [
        {
          "output_type": "stream",
          "name": "stdout",
          "text": [
            "She PRON\n",
            "ate VERB\n",
            "the DET\n",
            "pizza NOUN\n",
            ". PUNCT\n"
          ]
        }
      ]
    },
    {
      "cell_type": "code",
      "source": [
        "# predicting syntactic dependencies\n",
        "\n",
        "for token in doc:\n",
        "  print(token.text, token.pos_, token.dep_, token.head.text)"
      ],
      "metadata": {
        "colab": {
          "base_uri": "https://localhost:8080/"
        },
        "id": "GHtj1LNLeYJN",
        "outputId": "e06ebe23-2341-48b3-8fe5-888b80bf89c2"
      },
      "execution_count": 11,
      "outputs": [
        {
          "output_type": "stream",
          "name": "stdout",
          "text": [
            "She PRON nsubj ate\n",
            "ate VERB ROOT ate\n",
            "the DET det pizza\n",
            "pizza NOUN dobj ate\n",
            ". PUNCT punct ate\n"
          ]
        }
      ]
    },
    {
      "cell_type": "markdown",
      "source": [
        "To describe syntactic dependencies, spaCy uses a standardized label scheme. Here's an example of some common labels:\n",
        "\n",
        "The pronoun \"She\" is a nominal subject attached to the verb – in this case, to \"ate\".\n",
        "\n",
        "The noun \"pizza\" is a direct object attached to the verb \"ate\". It is eaten by the subject, \"she\".\n",
        "\n",
        "The determiner \"the\", also known as an article, is attached to the noun \"pizza\"."
      ],
      "metadata": {
        "id": "tsnI3oSmfRwg"
      }
    },
    {
      "cell_type": "code",
      "source": [
        "# predicting the named entities\n",
        "\n",
        "doc = nlp(\"Apple is looking at buying U.K. startup for $1 billion\")\n",
        "\n",
        "for token in doc.ents:\n",
        "  print(token.text, token.label_)"
      ],
      "metadata": {
        "colab": {
          "base_uri": "https://localhost:8080/"
        },
        "id": "ZYWqFU3JfWZ3",
        "outputId": "40af7a92-06b2-4f39-9bb7-f3e29fa703f4"
      },
      "execution_count": 13,
      "outputs": [
        {
          "output_type": "stream",
          "name": "stdout",
          "text": [
            "Apple ORG\n",
            "U.K. GPE\n",
            "$1 billion MONEY\n"
          ]
        }
      ]
    },
    {
      "cell_type": "markdown",
      "source": [
        "Named entities are \"real world objects\" that are assigned a name – for example, a person, an organization or a country.\n",
        "\n",
        "The doc.ents property lets you access the named entities predicted by the named entity recognition model.\n",
        "\n",
        "It returns an iterator of Span objects, so we can print the entity text and the entity label using the .label_ attribute.\n",
        "\n",
        "In this case, the model is correctly predicting \"Apple\" as an organization, \"U.K.\" as a geopolitical entity and \"$1 billion\" as money."
      ],
      "metadata": {
        "id": "6cYAt-gpgQkZ"
      }
    },
    {
      "cell_type": "markdown",
      "source": [
        "*A quick tip: To get definitions for the most common tags and labels, you can use the spacy.explain helper function.*\n",
        "\n",
        "*For example, \"GPE\" for geopolitical entity isn't exactly intuitive – but spacy.explain can tell you that it refers to countries, cities and states.*\n",
        "\n",
        "*The same works for part-of-speech tags and dependency labels.*"
      ],
      "metadata": {
        "id": "wL2lpbnUgawq"
      }
    },
    {
      "cell_type": "code",
      "source": [
        "print(\"GPE -> \", spacy.explain(\"GPE\"))\n",
        "print(\"NNP -> \", spacy.explain(\"NNP\"))\n",
        "print(\"dobj -> \", spacy.explain(\"dobj\"))"
      ],
      "metadata": {
        "colab": {
          "base_uri": "https://localhost:8080/"
        },
        "id": "mxNFz3F3f1rJ",
        "outputId": "3244e52d-1ef4-49fd-a586-f79b8a3805ba"
      },
      "execution_count": 15,
      "outputs": [
        {
          "output_type": "stream",
          "name": "stdout",
          "text": [
            "GPE ->  Countries, cities, states\n",
            "NNP ->  noun, proper singular\n",
            "dobj ->  direct object\n"
          ]
        }
      ]
    },
    {
      "cell_type": "code",
      "source": [
        ""
      ],
      "metadata": {
        "id": "D5UhaPeDg1d1"
      },
      "execution_count": null,
      "outputs": []
    }
  ]
}